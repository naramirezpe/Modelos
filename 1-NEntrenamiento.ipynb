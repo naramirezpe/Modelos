{
 "cells": [
  {
   "cell_type": "markdown",
   "metadata": {},
   "source": [
    "# 1. Entrenamiento Predicción de etiquetas\n",
    "### Etiquetas a predecir: 01 - 00 - 11 - 10\n"
   ]
  },
  {
   "cell_type": "markdown",
   "metadata": {},
   "source": [
    "Importación de librerías"
   ]
  },
  {
   "cell_type": "code",
   "execution_count": 111,
   "metadata": {},
   "outputs": [],
   "source": [
    "import pandas as pd\n",
    "from sklearn.model_selection import train_test_split\n",
    "from sklearn.ensemble import RandomForestClassifier\n",
    "import joblib\n",
    "from sklearn.metrics import confusion_matrix\n",
    "import seaborn as sns\n",
    "import kds \n",
    "from openpyxl import Workbook\n",
    "from sklearn import tree\n"
   ]
  },
  {
   "cell_type": "markdown",
   "metadata": {},
   "source": [
    "Carga de datos"
   ]
  },
  {
   "cell_type": "code",
   "execution_count": 91,
   "metadata": {},
   "outputs": [],
   "source": [
    "df_02 = pd.read_csv('EntrenamientoModelo.csv', converters={'D1615': '{:0>2}'.format,'D1413': '{:0>2}'.format,'D1211': '{:0>2}'.format,\n",
    "                      'D109': '{:0>2}'.format, 'D87': '{:0>2}'.format,'D65': '{:0>2}'.format,'D43': '{:0>2}'.format,\n",
    "                      'D21': '{:0>2}'.format}, sep =';')"
   ]
  },
  {
   "cell_type": "code",
   "execution_count": 92,
   "metadata": {},
   "outputs": [
    {
     "data": {
      "text/html": [
       "<div>\n",
       "<style scoped>\n",
       "    .dataframe tbody tr th:only-of-type {\n",
       "        vertical-align: middle;\n",
       "    }\n",
       "\n",
       "    .dataframe tbody tr th {\n",
       "        vertical-align: top;\n",
       "    }\n",
       "\n",
       "    .dataframe thead th {\n",
       "        text-align: right;\n",
       "    }\n",
       "</style>\n",
       "<table border=\"1\" class=\"dataframe\">\n",
       "  <thead>\n",
       "    <tr style=\"text-align: right;\">\n",
       "      <th></th>\n",
       "      <th>Index</th>\n",
       "      <th>num_registro</th>\n",
       "      <th>sd_16</th>\n",
       "      <th>sd_15</th>\n",
       "      <th>sd_14</th>\n",
       "      <th>sd_13</th>\n",
       "      <th>sd_12</th>\n",
       "      <th>sd_11</th>\n",
       "      <th>sd_10</th>\n",
       "      <th>sd_9</th>\n",
       "      <th>...</th>\n",
       "      <th>sd_1</th>\n",
       "      <th>prom_venta</th>\n",
       "      <th>D1615</th>\n",
       "      <th>D1413</th>\n",
       "      <th>D1211</th>\n",
       "      <th>D109</th>\n",
       "      <th>D87</th>\n",
       "      <th>D65</th>\n",
       "      <th>D43</th>\n",
       "      <th>D21</th>\n",
       "    </tr>\n",
       "  </thead>\n",
       "  <tbody>\n",
       "    <tr>\n",
       "      <th>0</th>\n",
       "      <td>0</td>\n",
       "      <td>37301747639677</td>\n",
       "      <td>0</td>\n",
       "      <td>0</td>\n",
       "      <td>0</td>\n",
       "      <td>0</td>\n",
       "      <td>0</td>\n",
       "      <td>0</td>\n",
       "      <td>0</td>\n",
       "      <td>0</td>\n",
       "      <td>...</td>\n",
       "      <td>0</td>\n",
       "      <td>2.25</td>\n",
       "      <td>00</td>\n",
       "      <td>00</td>\n",
       "      <td>00</td>\n",
       "      <td>00</td>\n",
       "      <td>01</td>\n",
       "      <td>00</td>\n",
       "      <td>00</td>\n",
       "      <td>00</td>\n",
       "    </tr>\n",
       "    <tr>\n",
       "      <th>1</th>\n",
       "      <td>1</td>\n",
       "      <td>37323816426877</td>\n",
       "      <td>0</td>\n",
       "      <td>1</td>\n",
       "      <td>1</td>\n",
       "      <td>1</td>\n",
       "      <td>1</td>\n",
       "      <td>1</td>\n",
       "      <td>1</td>\n",
       "      <td>0</td>\n",
       "      <td>...</td>\n",
       "      <td>0</td>\n",
       "      <td>1.00</td>\n",
       "      <td>01</td>\n",
       "      <td>11</td>\n",
       "      <td>11</td>\n",
       "      <td>10</td>\n",
       "      <td>00</td>\n",
       "      <td>00</td>\n",
       "      <td>00</td>\n",
       "      <td>00</td>\n",
       "    </tr>\n",
       "    <tr>\n",
       "      <th>2</th>\n",
       "      <td>2</td>\n",
       "      <td>37310877495777</td>\n",
       "      <td>1</td>\n",
       "      <td>1</td>\n",
       "      <td>0</td>\n",
       "      <td>0</td>\n",
       "      <td>0</td>\n",
       "      <td>0</td>\n",
       "      <td>1</td>\n",
       "      <td>0</td>\n",
       "      <td>...</td>\n",
       "      <td>0</td>\n",
       "      <td>1.00</td>\n",
       "      <td>11</td>\n",
       "      <td>00</td>\n",
       "      <td>00</td>\n",
       "      <td>10</td>\n",
       "      <td>00</td>\n",
       "      <td>00</td>\n",
       "      <td>00</td>\n",
       "      <td>00</td>\n",
       "    </tr>\n",
       "    <tr>\n",
       "      <th>3</th>\n",
       "      <td>3</td>\n",
       "      <td>37323803965677</td>\n",
       "      <td>0</td>\n",
       "      <td>0</td>\n",
       "      <td>1</td>\n",
       "      <td>0</td>\n",
       "      <td>0</td>\n",
       "      <td>0</td>\n",
       "      <td>0</td>\n",
       "      <td>0</td>\n",
       "      <td>...</td>\n",
       "      <td>0</td>\n",
       "      <td>13.20</td>\n",
       "      <td>00</td>\n",
       "      <td>10</td>\n",
       "      <td>00</td>\n",
       "      <td>00</td>\n",
       "      <td>10</td>\n",
       "      <td>00</td>\n",
       "      <td>00</td>\n",
       "      <td>00</td>\n",
       "    </tr>\n",
       "    <tr>\n",
       "      <th>4</th>\n",
       "      <td>4</td>\n",
       "      <td>37310895879377</td>\n",
       "      <td>0</td>\n",
       "      <td>0</td>\n",
       "      <td>0</td>\n",
       "      <td>0</td>\n",
       "      <td>0</td>\n",
       "      <td>0</td>\n",
       "      <td>0</td>\n",
       "      <td>0</td>\n",
       "      <td>...</td>\n",
       "      <td>0</td>\n",
       "      <td>2.25</td>\n",
       "      <td>00</td>\n",
       "      <td>00</td>\n",
       "      <td>00</td>\n",
       "      <td>00</td>\n",
       "      <td>11</td>\n",
       "      <td>00</td>\n",
       "      <td>11</td>\n",
       "      <td>00</td>\n",
       "    </tr>\n",
       "    <tr>\n",
       "      <th>...</th>\n",
       "      <td>...</td>\n",
       "      <td>...</td>\n",
       "      <td>...</td>\n",
       "      <td>...</td>\n",
       "      <td>...</td>\n",
       "      <td>...</td>\n",
       "      <td>...</td>\n",
       "      <td>...</td>\n",
       "      <td>...</td>\n",
       "      <td>...</td>\n",
       "      <td>...</td>\n",
       "      <td>...</td>\n",
       "      <td>...</td>\n",
       "      <td>...</td>\n",
       "      <td>...</td>\n",
       "      <td>...</td>\n",
       "      <td>...</td>\n",
       "      <td>...</td>\n",
       "      <td>...</td>\n",
       "      <td>...</td>\n",
       "      <td>...</td>\n",
       "    </tr>\n",
       "    <tr>\n",
       "      <th>19995</th>\n",
       "      <td>19995</td>\n",
       "      <td>37314231649377</td>\n",
       "      <td>1</td>\n",
       "      <td>1</td>\n",
       "      <td>1</td>\n",
       "      <td>1</td>\n",
       "      <td>1</td>\n",
       "      <td>1</td>\n",
       "      <td>1</td>\n",
       "      <td>1</td>\n",
       "      <td>...</td>\n",
       "      <td>1</td>\n",
       "      <td>13.20</td>\n",
       "      <td>11</td>\n",
       "      <td>11</td>\n",
       "      <td>11</td>\n",
       "      <td>11</td>\n",
       "      <td>11</td>\n",
       "      <td>11</td>\n",
       "      <td>11</td>\n",
       "      <td>11</td>\n",
       "    </tr>\n",
       "    <tr>\n",
       "      <th>19996</th>\n",
       "      <td>19996</td>\n",
       "      <td>37321953780077</td>\n",
       "      <td>1</td>\n",
       "      <td>1</td>\n",
       "      <td>1</td>\n",
       "      <td>1</td>\n",
       "      <td>1</td>\n",
       "      <td>1</td>\n",
       "      <td>1</td>\n",
       "      <td>0</td>\n",
       "      <td>...</td>\n",
       "      <td>1</td>\n",
       "      <td>13.20</td>\n",
       "      <td>11</td>\n",
       "      <td>11</td>\n",
       "      <td>11</td>\n",
       "      <td>10</td>\n",
       "      <td>11</td>\n",
       "      <td>11</td>\n",
       "      <td>11</td>\n",
       "      <td>11</td>\n",
       "    </tr>\n",
       "    <tr>\n",
       "      <th>19997</th>\n",
       "      <td>19997</td>\n",
       "      <td>37317592682877</td>\n",
       "      <td>1</td>\n",
       "      <td>1</td>\n",
       "      <td>1</td>\n",
       "      <td>1</td>\n",
       "      <td>1</td>\n",
       "      <td>1</td>\n",
       "      <td>1</td>\n",
       "      <td>1</td>\n",
       "      <td>...</td>\n",
       "      <td>1</td>\n",
       "      <td>13.20</td>\n",
       "      <td>11</td>\n",
       "      <td>11</td>\n",
       "      <td>11</td>\n",
       "      <td>11</td>\n",
       "      <td>11</td>\n",
       "      <td>11</td>\n",
       "      <td>11</td>\n",
       "      <td>11</td>\n",
       "    </tr>\n",
       "    <tr>\n",
       "      <th>19998</th>\n",
       "      <td>19998</td>\n",
       "      <td>37316423136677</td>\n",
       "      <td>1</td>\n",
       "      <td>1</td>\n",
       "      <td>1</td>\n",
       "      <td>1</td>\n",
       "      <td>1</td>\n",
       "      <td>1</td>\n",
       "      <td>1</td>\n",
       "      <td>1</td>\n",
       "      <td>...</td>\n",
       "      <td>1</td>\n",
       "      <td>3.30</td>\n",
       "      <td>11</td>\n",
       "      <td>11</td>\n",
       "      <td>11</td>\n",
       "      <td>11</td>\n",
       "      <td>11</td>\n",
       "      <td>11</td>\n",
       "      <td>11</td>\n",
       "      <td>11</td>\n",
       "    </tr>\n",
       "    <tr>\n",
       "      <th>19999</th>\n",
       "      <td>19999</td>\n",
       "      <td>37315323592077</td>\n",
       "      <td>1</td>\n",
       "      <td>1</td>\n",
       "      <td>1</td>\n",
       "      <td>1</td>\n",
       "      <td>1</td>\n",
       "      <td>1</td>\n",
       "      <td>1</td>\n",
       "      <td>1</td>\n",
       "      <td>...</td>\n",
       "      <td>1</td>\n",
       "      <td>13.20</td>\n",
       "      <td>11</td>\n",
       "      <td>11</td>\n",
       "      <td>11</td>\n",
       "      <td>11</td>\n",
       "      <td>11</td>\n",
       "      <td>11</td>\n",
       "      <td>11</td>\n",
       "      <td>11</td>\n",
       "    </tr>\n",
       "  </tbody>\n",
       "</table>\n",
       "<p>20000 rows × 27 columns</p>\n",
       "</div>"
      ],
      "text/plain": [
       "       Index    num_registro  sd_16  sd_15  sd_14  sd_13  sd_12  sd_11  sd_10  \\\n",
       "0          0  37301747639677      0      0      0      0      0      0      0   \n",
       "1          1  37323816426877      0      1      1      1      1      1      1   \n",
       "2          2  37310877495777      1      1      0      0      0      0      1   \n",
       "3          3  37323803965677      0      0      1      0      0      0      0   \n",
       "4          4  37310895879377      0      0      0      0      0      0      0   \n",
       "...      ...             ...    ...    ...    ...    ...    ...    ...    ...   \n",
       "19995  19995  37314231649377      1      1      1      1      1      1      1   \n",
       "19996  19996  37321953780077      1      1      1      1      1      1      1   \n",
       "19997  19997  37317592682877      1      1      1      1      1      1      1   \n",
       "19998  19998  37316423136677      1      1      1      1      1      1      1   \n",
       "19999  19999  37315323592077      1      1      1      1      1      1      1   \n",
       "\n",
       "       sd_9  ...  sd_1  prom_venta  D1615  D1413  D1211  D109  D87  D65  D43  \\\n",
       "0         0  ...     0        2.25     00     00     00    00   01   00   00   \n",
       "1         0  ...     0        1.00     01     11     11    10   00   00   00   \n",
       "2         0  ...     0        1.00     11     00     00    10   00   00   00   \n",
       "3         0  ...     0       13.20     00     10     00    00   10   00   00   \n",
       "4         0  ...     0        2.25     00     00     00    00   11   00   11   \n",
       "...     ...  ...   ...         ...    ...    ...    ...   ...  ...  ...  ...   \n",
       "19995     1  ...     1       13.20     11     11     11    11   11   11   11   \n",
       "19996     0  ...     1       13.20     11     11     11    10   11   11   11   \n",
       "19997     1  ...     1       13.20     11     11     11    11   11   11   11   \n",
       "19998     1  ...     1        3.30     11     11     11    11   11   11   11   \n",
       "19999     1  ...     1       13.20     11     11     11    11   11   11   11   \n",
       "\n",
       "      D21  \n",
       "0      00  \n",
       "1      00  \n",
       "2      00  \n",
       "3      00  \n",
       "4      00  \n",
       "...    ..  \n",
       "19995  11  \n",
       "19996  11  \n",
       "19997  11  \n",
       "19998  11  \n",
       "19999  11  \n",
       "\n",
       "[20000 rows x 27 columns]"
      ]
     },
     "execution_count": 92,
     "metadata": {},
     "output_type": "execute_result"
    }
   ],
   "source": [
    "df_02"
   ]
  },
  {
   "cell_type": "markdown",
   "metadata": {},
   "source": [
    "Asignación de variables predictiva y entrenamiento"
   ]
  },
  {
   "cell_type": "code",
   "execution_count": 93,
   "metadata": {},
   "outputs": [],
   "source": [
    "y = df_02['D21'].astype(\"category\")"
   ]
  },
  {
   "cell_type": "code",
   "execution_count": 94,
   "metadata": {},
   "outputs": [],
   "source": [
    "X =  df_02[['sd_16', 'sd_15', 'sd_14', 'sd_13', 'sd_12', 'sd_11', 'sd_10', 'sd_9', 'sd_8', 'sd_7', 'sd_6', 'sd_5', 'sd_4', 'sd_3']]"
   ]
  },
  {
   "cell_type": "code",
   "execution_count": 95,
   "metadata": {},
   "outputs": [],
   "source": [
    "X_train, X_test, y_train, y_test = train_test_split(X, y, train_size   = 0.8, random_state = 1234, shuffle = True)"
   ]
  },
  {
   "cell_type": "markdown",
   "metadata": {},
   "source": [
    "## Modelo"
   ]
  },
  {
   "cell_type": "code",
   "execution_count": 96,
   "metadata": {},
   "outputs": [
    {
     "data": {
      "text/plain": [
       "RandomForestClassifier(max_depth=9, random_state=0)"
      ]
     },
     "execution_count": 96,
     "metadata": {},
     "output_type": "execute_result"
    }
   ],
   "source": [
    "# ==============================================================================\n",
    "\n",
    "modelo = RandomForestClassifier(max_depth=9, random_state=0)\n",
    "\n",
    "\n",
    "modelo.fit(X_train, y_train)\n",
    "\n",
    "\n"
   ]
  },
  {
   "cell_type": "code",
   "execution_count": 97,
   "metadata": {},
   "outputs": [
    {
     "data": {
      "text/plain": [
       "['modelo.joblib']"
      ]
     },
     "execution_count": 97,
     "metadata": {},
     "output_type": "execute_result"
    }
   ],
   "source": [
    "joblib.dump(modelo, 'modelo.joblib')"
   ]
  },
  {
   "cell_type": "code",
   "execution_count": 98,
   "metadata": {},
   "outputs": [],
   "source": [
    "# Predicciones test\n",
    "# ==============================================================================\n",
    "Y_Resultado = modelo.predict(X_test)"
   ]
  },
  {
   "cell_type": "code",
   "execution_count": 99,
   "metadata": {
    "scrolled": true
   },
   "outputs": [
    {
     "data": {
      "text/plain": [
       "count     4000\n",
       "unique       4\n",
       "top         00\n",
       "freq      1006\n",
       "Name: D21, dtype: object"
      ]
     },
     "execution_count": 99,
     "metadata": {},
     "output_type": "execute_result"
    }
   ],
   "source": [
    "y_test.describe()"
   ]
  },
  {
   "cell_type": "code",
   "execution_count": 100,
   "metadata": {},
   "outputs": [],
   "source": [
    "y_test = pd.DataFrame(y_test, columns = ['D21'])"
   ]
  },
  {
   "cell_type": "code",
   "execution_count": 101,
   "metadata": {},
   "outputs": [],
   "source": [
    "Y_Resultado = pd.DataFrame(Y_Resultado, columns = ['D21'])"
   ]
  },
  {
   "cell_type": "code",
   "execution_count": 102,
   "metadata": {
    "scrolled": true
   },
   "outputs": [
    {
     "data": {
      "text/plain": [
       "D21\n",
       "00    1006\n",
       "01     996\n",
       "10     999\n",
       "11     999\n",
       "Name: D21, dtype: int64"
      ]
     },
     "execution_count": 102,
     "metadata": {},
     "output_type": "execute_result"
    }
   ],
   "source": [
    "y_test.groupby(['D21'])['D21'].count()"
   ]
  },
  {
   "cell_type": "code",
   "execution_count": 103,
   "metadata": {},
   "outputs": [
    {
     "data": {
      "text/plain": [
       "D21\n",
       "00    1199\n",
       "01     646\n",
       "10    1057\n",
       "11    1098\n",
       "Name: D21, dtype: int64"
      ]
     },
     "execution_count": 103,
     "metadata": {},
     "output_type": "execute_result"
    }
   ],
   "source": [
    "Y_Resultado.groupby(['D21'])['D21'].count()"
   ]
  },
  {
   "cell_type": "code",
   "execution_count": 104,
   "metadata": {},
   "outputs": [
    {
     "data": {
      "text/plain": [
       "0       11\n",
       "1       11\n",
       "2       10\n",
       "3       10\n",
       "4       00\n",
       "        ..\n",
       "3995    10\n",
       "3996    10\n",
       "3997    11\n",
       "3998    00\n",
       "3999    11\n",
       "Name: D21, Length: 4000, dtype: object"
      ]
     },
     "execution_count": 104,
     "metadata": {},
     "output_type": "execute_result"
    }
   ],
   "source": [
    "Y_Resultado['D21']"
   ]
  },
  {
   "cell_type": "code",
   "execution_count": 105,
   "metadata": {},
   "outputs": [
    {
     "data": {
      "text/plain": [
       "array([[748,  96, 148,  14],\n",
       "       [190, 326, 349, 131],\n",
       "       [247, 160, 471, 121],\n",
       "       [ 14,  64,  89, 832]], dtype=int64)"
      ]
     },
     "execution_count": 105,
     "metadata": {},
     "output_type": "execute_result"
    }
   ],
   "source": [
    "cf_matrix = confusion_matrix(y_test, Y_Resultado)\n",
    "cf_matrix"
   ]
  },
  {
   "cell_type": "code",
   "execution_count": 106,
   "metadata": {},
   "outputs": [
    {
     "data": {
      "text/plain": [
       "<AxesSubplot:>"
      ]
     },
     "execution_count": 106,
     "metadata": {},
     "output_type": "execute_result"
    },
    {
     "data": {
      "image/png": "[encoded data removed]",
      "text/plain": [
       "<Figure size 432x288 with 2 Axes>"
      ]
     },
     "metadata": {
      "needs_background": "light"
     },
     "output_type": "display_data"
    }
   ],
   "source": [
    "sns.heatmap(cf_matrix, annot = True)"
   ]
  },
  {
   "cell_type": "code",
   "execution_count": 107,
   "metadata": {},
   "outputs": [
    {
     "name": "stdout",
     "output_type": "stream",
     "text": [
      "              precision    recall  f1-score   support\n",
      "\n",
      "          00       0.62      0.74      0.68      1006\n",
      "          01       0.50      0.33      0.40       996\n",
      "          10       0.45      0.47      0.46       999\n",
      "          11       0.76      0.83      0.79       999\n",
      "\n",
      "    accuracy                           0.59      4000\n",
      "   macro avg       0.58      0.59      0.58      4000\n",
      "weighted avg       0.58      0.59      0.58      4000\n",
      "\n"
     ]
    }
   ],
   "source": [
    "from sklearn.metrics import classification_report\n",
    "print(classification_report(y_test, Y_Resultado))"
   ]
  },
  {
   "cell_type": "code",
   "execution_count": null,
   "metadata": {},
   "outputs": [],
   "source": [
    "# =============================================================================="
   ]
  },
  {
   "cell_type": "markdown",
   "metadata": {},
   "source": [
    "## Modelo 2"
   ]
  },
  {
   "cell_type": "code",
   "execution_count": 109,
   "metadata": {},
   "outputs": [],
   "source": [
    "y_prob = modelo.predict_proba(X_test)"
   ]
  },
  {
   "cell_type": "code",
   "execution_count": 110,
   "metadata": {},
   "outputs": [
    {
     "data": {
      "text/plain": [
       "array([0.1010839 , 0.3072268 , 0.27818858, ..., 0.1010839 , 0.2462887 ,\n",
       "       0.1010839 ])"
      ]
     },
     "execution_count": 110,
     "metadata": {},
     "output_type": "execute_result"
    }
   ],
   "source": [
    "y_prob[:,1]"
   ]
  },
  {
   "cell_type": "code",
   "execution_count": 132,
   "metadata": {},
   "outputs": [],
   "source": [
    "y_test1 = y_test.astype(int)"
   ]
  },
  {
   "cell_type": "code",
   "execution_count": 130,
   "metadata": {},
   "outputs": [],
   "source": [
    "X_train, X_test, y_train, y_test = train_test_split(X, y, train_size   = 0.8, random_state = 1234, shuffle = True)\n",
    "clf = tree.DecisionTreeClassifier(max_depth=1,random_state=3)\n",
    "clf = clf.fit(X_train, y_train)\n",
    "y_prob = clf.predict_proba(X_test)"
   ]
  },
  {
   "cell_type": "code",
   "execution_count": 133,
   "metadata": {},
   "outputs": [
    {
     "name": "stdout",
     "output_type": "stream",
     "text": [
      "LABELS INFO:\n",
      "\n",
      " prob_min         : Minimum probability in a particular decile\n",
      " prob_max         : Minimum probability in a particular decile\n",
      " prob_avg         : Average probability in a particular decile\n",
      " cnt_events       : Count of events in a particular decile\n",
      " cnt_resp         : Count of responders in a particular decile\n",
      " cnt_non_resp     : Count of non-responders in a particular decile\n",
      " cnt_resp_rndm    : Count of responders if events assigned randomly in a particular decile\n",
      " cnt_resp_wiz     : Count of best possible responders in a particular decile\n",
      " resp_rate        : Response Rate in a particular decile [(cnt_resp/cnt_cust)*100]\n",
      " cum_events       : Cumulative sum of events decile-wise \n",
      " cum_resp         : Cumulative sum of responders decile-wise \n",
      " cum_resp_wiz     : Cumulative sum of best possible responders decile-wise \n",
      " cum_non_resp     : Cumulative sum of non-responders decile-wise \n",
      " cum_events_pct   : Cumulative sum of percentages of events decile-wise \n",
      " cum_resp_pct     : Cumulative sum of percentages of responders decile-wise \n",
      " cum_resp_pct_wiz : Cumulative sum of percentages of best possible responders decile-wise \n",
      " cum_non_resp_pct : Cumulative sum of percentages of non-responders decile-wise \n",
      " KS               : KS Statistic decile-wise \n",
      " lift             : Cumuative Lift Value decile-wise\n"
     ]
    },
    {
     "data": {
      "text/html": [
       "<div>\n",
       "<style scoped>\n",
       "    .dataframe tbody tr th:only-of-type {\n",
       "        vertical-align: middle;\n",
       "    }\n",
       "\n",
       "    .dataframe tbody tr th {\n",
       "        vertical-align: top;\n",
       "    }\n",
       "\n",
       "    .dataframe thead th {\n",
       "        text-align: right;\n",
       "    }\n",
       "</style>\n",
       "<table border=\"1\" class=\"dataframe\">\n",
       "  <thead>\n",
       "    <tr style=\"text-align: right;\">\n",
       "      <th></th>\n",
       "      <th>decile</th>\n",
       "      <th>prob_min</th>\n",
       "      <th>prob_max</th>\n",
       "      <th>prob_avg</th>\n",
       "      <th>cnt_cust</th>\n",
       "      <th>cnt_resp</th>\n",
       "      <th>cnt_non_resp</th>\n",
       "      <th>cnt_resp_rndm</th>\n",
       "      <th>cnt_resp_wiz</th>\n",
       "      <th>resp_rate</th>\n",
       "      <th>cum_cust</th>\n",
       "      <th>cum_resp</th>\n",
       "      <th>cum_resp_wiz</th>\n",
       "      <th>cum_non_resp</th>\n",
       "      <th>cum_cust_pct</th>\n",
       "      <th>cum_resp_pct</th>\n",
       "      <th>cum_resp_pct_wiz</th>\n",
       "      <th>cum_non_resp_pct</th>\n",
       "      <th>KS</th>\n",
       "      <th>lift</th>\n",
       "    </tr>\n",
       "  </thead>\n",
       "  <tbody>\n",
       "    <tr>\n",
       "      <th>0</th>\n",
       "      <td>1</td>\n",
       "      <td>0.280</td>\n",
       "      <td>0.280</td>\n",
       "      <td>0.280</td>\n",
       "      <td>400.0</td>\n",
       "      <td>1177.0</td>\n",
       "      <td>179.0</td>\n",
       "      <td>2197.5</td>\n",
       "      <td>4400</td>\n",
       "      <td>294.25</td>\n",
       "      <td>400.0</td>\n",
       "      <td>1177.0</td>\n",
       "      <td>4400</td>\n",
       "      <td>179.0</td>\n",
       "      <td>10.0</td>\n",
       "      <td>5.356</td>\n",
       "      <td>20.023</td>\n",
       "      <td>17.793</td>\n",
       "      <td>-12.437</td>\n",
       "      <td>0.536</td>\n",
       "    </tr>\n",
       "    <tr>\n",
       "      <th>1</th>\n",
       "      <td>2</td>\n",
       "      <td>0.280</td>\n",
       "      <td>0.280</td>\n",
       "      <td>0.280</td>\n",
       "      <td>400.0</td>\n",
       "      <td>1346.0</td>\n",
       "      <td>159.0</td>\n",
       "      <td>2197.5</td>\n",
       "      <td>4400</td>\n",
       "      <td>336.50</td>\n",
       "      <td>800.0</td>\n",
       "      <td>2523.0</td>\n",
       "      <td>8800</td>\n",
       "      <td>338.0</td>\n",
       "      <td>20.0</td>\n",
       "      <td>11.481</td>\n",
       "      <td>40.046</td>\n",
       "      <td>33.598</td>\n",
       "      <td>-22.117</td>\n",
       "      <td>0.574</td>\n",
       "    </tr>\n",
       "    <tr>\n",
       "      <th>2</th>\n",
       "      <td>3</td>\n",
       "      <td>0.280</td>\n",
       "      <td>0.280</td>\n",
       "      <td>0.280</td>\n",
       "      <td>400.0</td>\n",
       "      <td>1233.0</td>\n",
       "      <td>178.0</td>\n",
       "      <td>2197.5</td>\n",
       "      <td>4199</td>\n",
       "      <td>308.25</td>\n",
       "      <td>1200.0</td>\n",
       "      <td>3756.0</td>\n",
       "      <td>12999</td>\n",
       "      <td>516.0</td>\n",
       "      <td>30.0</td>\n",
       "      <td>17.092</td>\n",
       "      <td>59.154</td>\n",
       "      <td>51.292</td>\n",
       "      <td>-34.200</td>\n",
       "      <td>0.570</td>\n",
       "    </tr>\n",
       "    <tr>\n",
       "      <th>3</th>\n",
       "      <td>4</td>\n",
       "      <td>0.280</td>\n",
       "      <td>0.280</td>\n",
       "      <td>0.280</td>\n",
       "      <td>400.0</td>\n",
       "      <td>1340.0</td>\n",
       "      <td>177.0</td>\n",
       "      <td>2197.5</td>\n",
       "      <td>4000</td>\n",
       "      <td>335.00</td>\n",
       "      <td>1600.0</td>\n",
       "      <td>5096.0</td>\n",
       "      <td>16999</td>\n",
       "      <td>693.0</td>\n",
       "      <td>40.0</td>\n",
       "      <td>23.190</td>\n",
       "      <td>77.356</td>\n",
       "      <td>68.887</td>\n",
       "      <td>-45.697</td>\n",
       "      <td>0.580</td>\n",
       "    </tr>\n",
       "    <tr>\n",
       "      <th>4</th>\n",
       "      <td>5</td>\n",
       "      <td>0.222</td>\n",
       "      <td>0.280</td>\n",
       "      <td>0.270</td>\n",
       "      <td>400.0</td>\n",
       "      <td>1504.0</td>\n",
       "      <td>163.0</td>\n",
       "      <td>2197.5</td>\n",
       "      <td>3982</td>\n",
       "      <td>376.00</td>\n",
       "      <td>2000.0</td>\n",
       "      <td>6600.0</td>\n",
       "      <td>20981</td>\n",
       "      <td>856.0</td>\n",
       "      <td>50.0</td>\n",
       "      <td>30.034</td>\n",
       "      <td>95.477</td>\n",
       "      <td>85.089</td>\n",
       "      <td>-55.055</td>\n",
       "      <td>0.601</td>\n",
       "    </tr>\n",
       "    <tr>\n",
       "      <th>5</th>\n",
       "      <td>6</td>\n",
       "      <td>0.222</td>\n",
       "      <td>0.222</td>\n",
       "      <td>0.222</td>\n",
       "      <td>400.0</td>\n",
       "      <td>3126.0</td>\n",
       "      <td>28.0</td>\n",
       "      <td>2197.5</td>\n",
       "      <td>400</td>\n",
       "      <td>781.50</td>\n",
       "      <td>2400.0</td>\n",
       "      <td>9726.0</td>\n",
       "      <td>21381</td>\n",
       "      <td>884.0</td>\n",
       "      <td>60.0</td>\n",
       "      <td>44.259</td>\n",
       "      <td>97.297</td>\n",
       "      <td>87.873</td>\n",
       "      <td>-43.614</td>\n",
       "      <td>0.738</td>\n",
       "    </tr>\n",
       "    <tr>\n",
       "      <th>6</th>\n",
       "      <td>7</td>\n",
       "      <td>0.222</td>\n",
       "      <td>0.222</td>\n",
       "      <td>0.222</td>\n",
       "      <td>400.0</td>\n",
       "      <td>3085.0</td>\n",
       "      <td>23.0</td>\n",
       "      <td>2197.5</td>\n",
       "      <td>400</td>\n",
       "      <td>771.25</td>\n",
       "      <td>2800.0</td>\n",
       "      <td>12811.0</td>\n",
       "      <td>21781</td>\n",
       "      <td>907.0</td>\n",
       "      <td>70.0</td>\n",
       "      <td>58.298</td>\n",
       "      <td>99.117</td>\n",
       "      <td>90.159</td>\n",
       "      <td>-31.861</td>\n",
       "      <td>0.833</td>\n",
       "    </tr>\n",
       "    <tr>\n",
       "      <th>7</th>\n",
       "      <td>8</td>\n",
       "      <td>0.222</td>\n",
       "      <td>0.222</td>\n",
       "      <td>0.222</td>\n",
       "      <td>400.0</td>\n",
       "      <td>3032.0</td>\n",
       "      <td>34.0</td>\n",
       "      <td>2197.5</td>\n",
       "      <td>194</td>\n",
       "      <td>758.00</td>\n",
       "      <td>3200.0</td>\n",
       "      <td>15843.0</td>\n",
       "      <td>21975</td>\n",
       "      <td>941.0</td>\n",
       "      <td>80.0</td>\n",
       "      <td>72.096</td>\n",
       "      <td>100.000</td>\n",
       "      <td>93.539</td>\n",
       "      <td>-21.443</td>\n",
       "      <td>0.901</td>\n",
       "    </tr>\n",
       "    <tr>\n",
       "      <th>8</th>\n",
       "      <td>9</td>\n",
       "      <td>0.222</td>\n",
       "      <td>0.222</td>\n",
       "      <td>0.222</td>\n",
       "      <td>400.0</td>\n",
       "      <td>3141.0</td>\n",
       "      <td>28.0</td>\n",
       "      <td>2197.5</td>\n",
       "      <td>0</td>\n",
       "      <td>785.25</td>\n",
       "      <td>3600.0</td>\n",
       "      <td>18984.0</td>\n",
       "      <td>21975</td>\n",
       "      <td>969.0</td>\n",
       "      <td>90.0</td>\n",
       "      <td>86.389</td>\n",
       "      <td>100.000</td>\n",
       "      <td>96.322</td>\n",
       "      <td>-9.933</td>\n",
       "      <td>0.960</td>\n",
       "    </tr>\n",
       "    <tr>\n",
       "      <th>9</th>\n",
       "      <td>10</td>\n",
       "      <td>0.222</td>\n",
       "      <td>0.222</td>\n",
       "      <td>0.222</td>\n",
       "      <td>400.0</td>\n",
       "      <td>2991.0</td>\n",
       "      <td>37.0</td>\n",
       "      <td>2197.5</td>\n",
       "      <td>0</td>\n",
       "      <td>747.75</td>\n",
       "      <td>4000.0</td>\n",
       "      <td>21975.0</td>\n",
       "      <td>21975</td>\n",
       "      <td>1006.0</td>\n",
       "      <td>100.0</td>\n",
       "      <td>100.000</td>\n",
       "      <td>100.000</td>\n",
       "      <td>100.000</td>\n",
       "      <td>0.000</td>\n",
       "      <td>1.000</td>\n",
       "    </tr>\n",
       "  </tbody>\n",
       "</table>\n",
       "</div>"
      ],
      "text/plain": [
       "   decile  prob_min  prob_max  prob_avg  cnt_cust  cnt_resp  cnt_non_resp  \\\n",
       "0       1     0.280     0.280     0.280     400.0    1177.0         179.0   \n",
       "1       2     0.280     0.280     0.280     400.0    1346.0         159.0   \n",
       "2       3     0.280     0.280     0.280     400.0    1233.0         178.0   \n",
       "3       4     0.280     0.280     0.280     400.0    1340.0         177.0   \n",
       "4       5     0.222     0.280     0.270     400.0    1504.0         163.0   \n",
       "5       6     0.222     0.222     0.222     400.0    3126.0          28.0   \n",
       "6       7     0.222     0.222     0.222     400.0    3085.0          23.0   \n",
       "7       8     0.222     0.222     0.222     400.0    3032.0          34.0   \n",
       "8       9     0.222     0.222     0.222     400.0    3141.0          28.0   \n",
       "9      10     0.222     0.222     0.222     400.0    2991.0          37.0   \n",
       "\n",
       "   cnt_resp_rndm  cnt_resp_wiz  resp_rate  cum_cust  cum_resp  cum_resp_wiz  \\\n",
       "0         2197.5          4400     294.25     400.0    1177.0          4400   \n",
       "1         2197.5          4400     336.50     800.0    2523.0          8800   \n",
       "2         2197.5          4199     308.25    1200.0    3756.0         12999   \n",
       "3         2197.5          4000     335.00    1600.0    5096.0         16999   \n",
       "4         2197.5          3982     376.00    2000.0    6600.0         20981   \n",
       "5         2197.5           400     781.50    2400.0    9726.0         21381   \n",
       "6         2197.5           400     771.25    2800.0   12811.0         21781   \n",
       "7         2197.5           194     758.00    3200.0   15843.0         21975   \n",
       "8         2197.5             0     785.25    3600.0   18984.0         21975   \n",
       "9         2197.5             0     747.75    4000.0   21975.0         21975   \n",
       "\n",
       "   cum_non_resp  cum_cust_pct  cum_resp_pct  cum_resp_pct_wiz  \\\n",
       "0         179.0          10.0         5.356            20.023   \n",
       "1         338.0          20.0        11.481            40.046   \n",
       "2         516.0          30.0        17.092            59.154   \n",
       "3         693.0          40.0        23.190            77.356   \n",
       "4         856.0          50.0        30.034            95.477   \n",
       "5         884.0          60.0        44.259            97.297   \n",
       "6         907.0          70.0        58.298            99.117   \n",
       "7         941.0          80.0        72.096           100.000   \n",
       "8         969.0          90.0        86.389           100.000   \n",
       "9        1006.0         100.0       100.000           100.000   \n",
       "\n",
       "   cum_non_resp_pct      KS   lift  \n",
       "0            17.793 -12.437  0.536  \n",
       "1            33.598 -22.117  0.574  \n",
       "2            51.292 -34.200  0.570  \n",
       "3            68.887 -45.697  0.580  \n",
       "4            85.089 -55.055  0.601  \n",
       "5            87.873 -43.614  0.738  \n",
       "6            90.159 -31.861  0.833  \n",
       "7            93.539 -21.443  0.901  \n",
       "8            96.322  -9.933  0.960  \n",
       "9           100.000   0.000  1.000  "
      ]
     },
     "execution_count": 133,
     "metadata": {},
     "output_type": "execute_result"
    },
    {
     "data": {
      "image/png": "[encoded data removed]",
      "text/plain": [
       "<Figure size 1152x720 with 4 Axes>"
      ]
     },
     "metadata": {
      "needs_background": "light"
     },
     "output_type": "display_data"
    }
   ],
   "source": [
    "kds.metrics.report(y_test1, y_prob[:,1])"
   ]
  },
  {
   "cell_type": "code",
   "execution_count": null,
   "metadata": {},
   "outputs": [],
   "source": []
  }
 ],
 "metadata": {
  "kernelspec": {
   "display_name": "Python 3",
   "language": "python",
   "name": "python3"
  },
  "language_info": {
   "codemirror_mode": {
    "name": "ipython",
    "version": 3
   },
   "file_extension": ".py",
   "mimetype": "text/x-python",
   "name": "python",
   "nbconvert_exporter": "python",
   "pygments_lexer": "ipython3",
   "version": "3.8.8"
  }
 },
 "nbformat": 4,
 "nbformat_minor": 2
}
